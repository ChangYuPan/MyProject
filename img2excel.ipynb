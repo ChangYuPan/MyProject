{
 "cells": [
  {
   "cell_type": "code",
   "execution_count": 59,
   "metadata": {},
   "outputs": [],
   "source": [
    "from glob import glob\n",
    "import os\n",
    "from os import listdir, makedirs\n",
    "from os.path import join, basename, dirname, isfile, isdir\n",
    "import openpyxl\n",
    "import xlsxwriter\n",
    "\n",
    "bookname = 'VE'\n",
    "SRC = 'tmp'\n",
    "\n",
    "book = xlsxwriter.Workbook(f'{bookname}.xlsx')\n",
    "sheet_LPD = book.add_worksheet('LPD')\n",
    "sheet_HAZE = book.add_worksheet('HAZE')\n",
    "# write lot name as index in first column start from second row\n",
    "lotnos = [fn for fn in listdir(SRC) if fn.startswith(bookname)]\n",
    "lotnos = sorted(lotnos * 2)\n",
    "sheet_LPD.write_column(1, 0, lotnos)\n",
    "sheet_HAZE.write_column(1, 0, lotnos)\n",
    "# write opno as column name in first row start from second column\n",
    "op_path = join(SRC, lotnos[0])\n",
    "opnos = sorted([fn for fn in listdir(op_path) if not fn.startswith('.')])\n",
    "sheet_LPD.write_row(0, 1, opnos)\n",
    "sheet_HAZE.write_row(0, 1, opnos)\n",
    "# set row height\n",
    "for row in range(len(lotnos)):\n",
    "    sheet_LPD.set_row(row+1, 240)\n",
    "    sheet_HAZE.set_row(row+1, 240)\n",
    "# set column width\n",
    "n_op = len(opnos)\n",
    "col_letter = chr(n_op + 65)\n",
    "sheet_LPD.set_column(f'B:{col_letter}', 60)\n",
    "sheet_HAZE.set_column(f'B:{col_letter}', 60)\n",
    "# image scale\n",
    "insert_image = {\n",
    "    'x_scale': 0.5,\n",
    "    'y_scale': 0.5\n",
    "}\n",
    "\n",
    "# insert image\n",
    "for row, lotno in enumerate(lotnos):\n",
    "    for column, opno in enumerate(opnos):\n",
    "        lot_op_path = join(SRC, lotno, opno)\n",
    "        img_fns = {fn.split('.')[0][-2:]: join(SRC, lotno, opno, fn) for fn in listdir(lot_op_path) if fn.endswith('.png')}\n",
    "        # check image number\n",
    "        if len(img_fns) == 2:\n",
    "            if row % 2 == 0:\n",
    "                sheet_LPD.insert_image(row+1, column+1, img_fns['l1'], insert_image)\n",
    "                sheet_HAZE.insert_image(row+1, column+1, img_fns['h1'], insert_image)\n",
    "        elif len(img_fns) == 4:\n",
    "            if row % 2 == 0:\n",
    "                sheet_LPD.insert_image(row+1, column+1, img_fns['l1'], insert_image)\n",
    "                sheet_HAZE.insert_image(row+1, column+1, img_fns['h1'], insert_image)\n",
    "            else:\n",
    "                sheet_LPD.insert_image(row+1, column+1, img_fns['l2'], insert_image)\n",
    "                sheet_HAZE.insert_image(row+1, column+1, img_fns['h2'], insert_image)\n",
    "        else:\n",
    "            raise BaseException('WRONG NUMBER of image.')\n",
    "        \n",
    "book.close()"
   ]
  },
  {
   "cell_type": "code",
   "execution_count": 155,
   "metadata": {},
   "outputs": [
    {
     "data": {
      "text/plain": [
       "{'h2': 'img-h2.png',\n",
       " 'h1': 'img-h1.png',\n",
       " 'l1': 'img-l1.png',\n",
       " 'l2': 'img-l2.png'}"
      ]
     },
     "execution_count": 155,
     "metadata": {},
     "output_type": "execute_result"
    }
   ],
   "source": [
    "img_fns = {}\n",
    "for fn in listdir(lot_op_path):\n",
    "    if fn.endswith('.png'):\n",
    "        key = fn.split('.')[0][-2:]\n",
    "        value = fn\n",
    "        img_fns[key] = value\n",
    "img_fns"
   ]
  },
  {
   "cell_type": "code",
   "execution_count": 163,
   "metadata": {},
   "outputs": [
    {
     "name": "stdout",
     "output_type": "stream",
     "text": [
      "tmp/VE3/SUR02\n",
      "{'h2': 'img-h2.png', 'h1': 'img-h1.png', 'l1': 'img-l1.png', 'l2': 'img-l2.png'}\n"
     ]
    }
   ],
   "source": [
    "print(lot_op_path)\n",
    "print(img_fns)"
   ]
  },
  {
   "cell_type": "code",
   "execution_count": null,
   "metadata": {},
   "outputs": [],
   "source": []
  }
 ],
 "metadata": {
  "kernelspec": {
   "display_name": "Python 3",
   "language": "python",
   "name": "python3"
  },
  "language_info": {
   "codemirror_mode": {
    "name": "ipython",
    "version": 3
   },
   "file_extension": ".py",
   "mimetype": "text/x-python",
   "name": "python",
   "nbconvert_exporter": "python",
   "pygments_lexer": "ipython3",
   "version": "3.7.6"
  }
 },
 "nbformat": 4,
 "nbformat_minor": 4
}
